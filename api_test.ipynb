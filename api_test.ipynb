{
 "cells": [
  {
   "cell_type": "code",
   "execution_count": 5,
   "metadata": {},
   "outputs": [],
   "source": [
    "import requests\n",
    "import json\n",
    "\n",
    "BASE_URL = \"http://localhost:8000\"\n",
    "\n",
    "def call_api(endpoint, data=None):\n",
    "    url = f\"{BASE_URL}{endpoint}\"\n",
    "    try:\n",
    "        if data:\n",
    "            response = requests.post(url, json=data)\n",
    "        else:\n",
    "            response = requests.post(url)\n",
    "        response.raise_for_status()\n",
    "        return response.json()\n",
    "    except requests.exceptions.RequestException as e:\n",
    "        print(f\"Ошибка при вызове API {endpoint}: {str(e)}\")\n",
    "        if response:\n",
    "            print(f\"Ответ сервера: {response.text}\")\n",
    "        return None"
   ]
  },
  {
   "cell_type": "code",
   "execution_count": 5,
   "metadata": {},
   "outputs": [
    {
     "name": "stdout",
     "output_type": "stream",
     "text": [
      "{'status': 'success', 'message': 'Added 0 new unique documents', 'new_docs_count': 0, 'duplicates_skipped': 1647, 'total_rows_in_sheet': 1647}\n"
     ]
    }
   ],
   "source": [
    "import requests\n",
    "\n",
    "url = \"http://localhost:8000/add_from_sheet\"\n",
    "data = {\n",
    "    \"sheet_id\": \"1qEormopG5VJDg9BfG4-d5kRBTdMPksRcN2sXar9Xepo\",\n",
    "    \"gid\": \"0\"\n",
    "}\n",
    "\n",
    "response = requests.post(url, json=data)\n",
    "print(response.json())"
   ]
  },
  {
   "cell_type": "code",
   "execution_count": 10,
   "metadata": {},
   "outputs": [
    {
     "name": "stdout",
     "output_type": "stream",
     "text": [
      "1. Полный сброс базы данных...\n",
      "{'status': 'success', 'message': 'База данных сброшена, все коллекции очищены'}\n",
      "\n",
      "2. Добавление данных из Google Sheets...\n",
      "Добавлено документов: 231\n",
      "Пропущено дубликатов: 1416\n",
      "Всего строк в таблице: 1647\n",
      "\n",
      "3. Попытка добавить те же данные снова...\n",
      "Добавлено документов: 0\n",
      "Пропущено дубликатов: 1647\n",
      "Всего строк в таблице: 1647\n"
     ]
    }
   ],
   "source": [
    "# 1. Полный сброс базы данных\n",
    "print(\"1. Полный сброс базы данных...\")\n",
    "result = call_api(\"/reset_database\")\n",
    "if result:\n",
    "    print(result)\n",
    "\n",
    "# 2. Добавление данных из Google Sheets\n",
    "print(\"\\n2. Добавление данных из Google Sheets...\")\n",
    "sheet_data = {\n",
    "    \"sheet_id\": \"1qEormopG5VJDg9BfG4-d5kRBTdMPksRcN2sXar9Xepo\",\n",
    "    \"gid\": \"0\"\n",
    "}\n",
    "result = call_api(\"/add_from_sheet\", sheet_data)\n",
    "if result:\n",
    "    print(f\"Добавлено документов: {result['new_docs_count']}\")\n",
    "    print(f\"Пропущено дубликатов: {result['duplicates_skipped']}\")\n",
    "    print(f\"Всего строк в таблице: {result['total_rows_in_sheet']}\")\n",
    "\n",
    "# 3. Попытка добавить те же данные снова\n",
    "print(\"\\n3. Попытка добавить те же данные снова...\")\n",
    "result = call_api(\"/add_from_sheet\", sheet_data)\n",
    "if result:\n",
    "    print(f\"Добавлено документов: {result['new_docs_count']}\")\n",
    "    print(f\"Пропущено дубликатов: {result['duplicates_skipped']}\")\n",
    "    print(f\"Всего строк в таблице: {result['total_rows_in_sheet']}\")"
   ]
  },
  {
   "cell_type": "code",
   "execution_count": 14,
   "metadata": {},
   "outputs": [
    {
     "data": {
      "text/plain": [
       "{'answer': {'ids': [['111', '169', '188', '214', '3']],\n",
       "  'distances': [[0.3621997833251953,\n",
       "    0.4499562382698059,\n",
       "    0.4927978515625,\n",
       "    0.5529258621996433,\n",
       "    0.5657987594604492]],\n",
       "  'metadatas': [[{'category': 'отпуск'},\n",
       "    {'category': 'отпуск'},\n",
       "    {'category': 'отпуск'},\n",
       "    {'category': 'отпуск'},\n",
       "    {'category': 'отпуск'}]],\n",
       "  'embeddings': None,\n",
       "  'documents': [['У сотрудника нет плановых отпусков на будущий год. По вопросу проведения отпусков по коллегам Вам следует обратиться к специалистам HR вашей торговой сети. Для этого зайдите на портал https://company-x5.ru, нажмите \"Новое обращение\", выберите \"Кадры (HR)\", после чего выберите интересующую тему и заполните соответствующие поля.',\n",
       "    'Сотрудники больше не могут сами планировать графики отпусков, время на выполнение их задач вышло. Теперь планирование доступно только руководителю. В разделе «Нуждаются в планировании отпуска» находятся сотрудники, за которых нужно запланировать график.',\n",
       "    'Сотрудники могут сформировать свои графики до конца ноября текущего года. За ходом планирования необходимо следить в разделе Моя команда - Отпуска сотрудников.',\n",
       "    'Есть причины, по которым сотрудник может не участвовать в планировании: 1) Стоят неявки в промежутке от текущей даты до 01.09 следующего года. 2) Есть мероприятие увольнение в будущем начиная от текущей даты. 3) Имеется срочный трудовой договор, который оканчивается в середине следующего года 4) Сотрудник является внутренним совместителем 5) Сотрудник находится на 0% занятости от текущей даты и далее в будущем 6) Работа по договору ГПХ Для уточнения данного вопроса, а так же корректировки данных, вы можете обратиться в кадровую службу или же позвонить на горячую линию. *Если процесс планирования отпусков на будущий год окончен, то возможности в ЛК запланировать отпуск нет ни самому сотруднику, ни руководителю за сотрудника. Сотрудник сможет в следующем году оформить в ЛК \"Отпуск по заявлению\".',\n",
       "    'Лимиты в личном кабинете отображаются на основании данных в кадровой системе. В процессе планирования, программа считает дни исходя из имеющихся лимитов и может предоставить дни отпуска авансом. На календарный год программа предоставляет лимит 28 дней. Период, за который накапливаются лимиты в количестве 28 дней, у каждого сотрудника индивидуальный и считается со дня приема в Компанию. За каждый последующий отработанный месяц предоставляется 2.33 дня отпуска. Специалистам HR следует проверить данные в 2001ИТ и в 2006ИТ, а именно сколько дней было запланировано и использовано в текущем году, есть ли неистраченные лимиты, есть ли продленный лимит на будущее. Проверить количество запланированных дней и доступных остатков. Посмотреть расчет отпускных дней отпуска на отчетную дату или на конец года можно через транзакцию ZHRPA036. Так же по существующему алгоритму при планировании отпусков в личном кабинете установлено правило - нельзя планировать более половины всех накопленных дней отпуска в первое полугодие до конца июня. У сотрудника прописано в личном кабинете, что нельзя планировать более 15 дней в первое полугодие.']],\n",
       "  'uris': None,\n",
       "  'data': None,\n",
       "  'included': ['metadatas', 'documents', 'distances']}}"
      ]
     },
     "execution_count": 14,
     "metadata": {},
     "output_type": "execute_result"
    }
   ],
   "source": [
    "# 3. Отправка запроса\n",
    "query_data = {\n",
    "    \"queries\": [\"сотрудник не запланироавал отпуск\"],\n",
    "    \"n_results\": 5\n",
    "}\n",
    "result = call_api(\"/api/v1/get_answer/\", query_data)\n",
    "result"
   ]
  },
  {
   "cell_type": "code",
   "execution_count": null,
   "metadata": {},
   "outputs": [],
   "source": []
  }
 ],
 "metadata": {
  "kernelspec": {
   "display_name": "Python 3",
   "language": "python",
   "name": "python3"
  },
  "language_info": {
   "codemirror_mode": {
    "name": "ipython",
    "version": 3
   },
   "file_extension": ".py",
   "mimetype": "text/x-python",
   "name": "python",
   "nbconvert_exporter": "python",
   "pygments_lexer": "ipython3",
   "version": "3.11.0"
  }
 },
 "nbformat": 4,
 "nbformat_minor": 2
}
