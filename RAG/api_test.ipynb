{
 "cells": [
  {
   "cell_type": "code",
   "execution_count": null,
   "metadata": {},
   "outputs": [],
   "source": [
    "import requests\n",
    "import json\n",
    "\n",
    "BASE_URL = \"http://localhost:8000\"\n",
    "\n",
    "def call_api(endpoint, data=None):\n",
    "    url = f\"{BASE_URL}{endpoint}\"\n",
    "    try:\n",
    "        if data:\n",
    "            response = requests.post(url, json=data)\n",
    "        else:\n",
    "            response = requests.post(url)\n",
    "        response.raise_for_status()\n",
    "        return response.json()\n",
    "    except requests.exceptions.RequestException as e:\n",
    "        print(f\"Ошибка при вызове API {endpoint}: {str(e)}\")\n",
    "        if response:\n",
    "            print(f\"Ответ сервера: {response.text}\")\n",
    "        return None"
   ]
  },
  {
   "cell_type": "code",
   "execution_count": 5,
   "metadata": {},
   "outputs": [
    {
     "name": "stdout",
     "output_type": "stream",
     "text": [
      "{'status': 'success', 'message': 'Added 0 new unique documents', 'new_docs_count': 0, 'duplicates_skipped': 1647, 'total_rows_in_sheet': 1647}\n"
     ]
    }
   ],
   "source": [
    "import requests\n",
    "\n",
    "url = \"http://localhost:8000/add_from_sheet\"\n",
    "data = {\n",
    "    \"sheet_id\": \"1qEormopG5VJDg9BfG4-d5kRBTdMPksRcN2sXar9Xepo\",\n",
    "    \"gid\": \"0\"\n",
    "}\n",
    "\n",
    "response = requests.post(url, json=data)\n",
    "print(response.json())\n"
   ]
  },
  {
   "cell_type": "code",
   "execution_count": null,
   "metadata": {},
   "outputs": [],
   "source": [
    "# 1. Полный сброс базы данных\n",
    "print(\"1. Полный сброс базы данных...\")\n",
    "result = call_api(\"/reset_database\")\n",
    "if result:\n",
    "    print(result)\n",
    "\n",
    "# 2. Добавление данных из Google Sheets\n",
    "print(\"\\n2. Добавление данных из Google Sheets...\")\n",
    "sheet_data = {\n",
    "    \"sheet_id\": \"1qEormopG5VJDg9BfG4-d5kRBTdMPksRcN2sXar9Xepo\",\n",
    "    \"gid\": \"0\"\n",
    "}\n",
    "result = call_api(\"/add_from_sheet\", sheet_data)\n",
    "if result:\n",
    "    print(f\"Добавлено документов: {result['new_docs_count']}\")\n",
    "    print(f\"Пропущено дубликатов: {result['duplicates_skipped']}\")\n",
    "    print(f\"Всего строк в таблице: {result['total_rows_in_sheet']}\")\n",
    "\n",
    "# 3. Попытка добавить те же данные снова\n",
    "print(\"\\n3. Попытка добавить те же данные снова...\")\n",
    "result = call_api(\"/add_from_sheet\", sheet_data)\n",
    "if result:\n",
    "    print(f\"Добавлено документов: {result['new_docs_count']}\")\n",
    "    print(f\"Пропущено дубликатов: {result['duplicates_skipped']}\")\n",
    "    print(f\"Всего строк в таблице: {result['total_rows_in_sheet']}\")"
   ]
  },
  {
   "cell_type": "code",
   "execution_count": null,
   "metadata": {},
   "outputs": [],
   "source": [
    "# 3. Отправка запроса\n",
    "query_data = {\n",
    "    \"queries\": [\"сотрудник не запланироавал отпуск\"],\n",
    "    \n",
    "    \"n_results\": 8\n",
    "}\n",
    "result = call_api(\"/api/v1/get_answer/\", query_data)\n",
    "result"
   ]
  },
  {
   "cell_type": "code",
   "execution_count": 6,
   "metadata": {},
   "outputs": [
    {
     "name": "stdout",
     "output_type": "stream",
     "text": [
      "{'detail': 'Not Found'}\n"
     ]
    }
   ],
   "source": [
    "import requests\n",
    "\n",
    "url = \"http://localhost:8000/get_answer\"\n",
    "data = {\n",
    "    \"queries\": [\"Ваш поисковый запрос\"],\n",
    "    \"n_results\": 3\n",
    "}\n",
    "\n",
    "response = requests.post(url, json=data)\n",
    "print(response.json())\n"
   ]
  },
  {
   "cell_type": "code",
   "execution_count": null,
   "metadata": {},
   "outputs": [],
   "source": []
  }
 ],
 "metadata": {
  "kernelspec": {
   "display_name": "Python 3",
   "language": "python",
   "name": "python3"
  },
  "language_info": {
   "codemirror_mode": {
    "name": "ipython",
    "version": 3
   },
   "file_extension": ".py",
   "mimetype": "text/x-python",
   "name": "python",
   "nbconvert_exporter": "python",
   "pygments_lexer": "ipython3",
   "version": "3.11.2"
  }
 },
 "nbformat": 4,
 "nbformat_minor": 2
}
