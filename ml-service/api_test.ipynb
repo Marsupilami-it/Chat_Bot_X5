{
 "cells": [
  {
   "cell_type": "code",
   "execution_count": 4,
   "metadata": {},
   "outputs": [],
   "source": [
    "import requests\n",
    "\n",
    "ip = '62.68.146.67'\n",
    "#ip = 'localhost'\n",
    "#url = f\"http://{ip}:8000/reset_database\"\n",
    "\n",
    "#response = requests.post(url)\n",
    "#response.json()"
   ]
  },
  {
   "cell_type": "code",
   "execution_count": 258,
   "metadata": {},
   "outputs": [
    {
     "data": {
      "text/plain": [
       "{'status': 'success',\n",
       " 'message': 'Added 1659 new unique question-answer pairs',\n",
       " 'new_pairs_count': 1659,\n",
       " 'duplicates_skipped': 0,\n",
       " 'total_rows_in_sheet': 1659,\n",
       " 'used_question_column': 'question',\n",
       " 'used_answer_column': 'content'}"
      ]
     },
     "execution_count": 258,
     "metadata": {},
     "output_type": "execute_result"
    }
   ],
   "source": [
    "import requests\n",
    "\n",
    "url = f\"http://{ip}:8000/add_from_sheet\"\n",
    "\n",
    "sheet_data = {\n",
    "    \"sheet_id\": \"1qEormopG5VJDg9BfG4-d5kRBTdMPksRcN2sXar9Xepo\",\n",
    "    \"gid\": \"0\"\n",
    "}\n",
    "\n",
    "response = requests.post(url, json=sheet_data)\n",
    "response.json()"
   ]
  },
  {
   "cell_type": "code",
   "execution_count": 5,
   "metadata": {},
   "outputs": [
    {
     "data": {
      "text/plain": [
       "{'total_items': 5,\n",
       " 'items': [{'id': '0',\n",
       "   'question': 'Какие документы необходимо предоставить при приеме беженцев?',\n",
       "   'answer': 'Вариант 1: 1) действующее удостоверение беженца: документ, удостоверяющий личность на территории РФ; 2) регистрация по месту пребывания; 3) СНИЛС (при наличии); 4) трудовая книжка и/или сведения о трудовой деятельности (при наличии трудового стажа). Вариант 2: 1) действующее свидетельство о предоставлении временного убежища: документ, удостоверяющий личность на территории РФ; 2) может быть предоставлен паспорт, но основанием для трудоустройства будет именно свидетельство; 3) регистрация по месту пребывания; 4) СНИЛС (при наличии); 5) трудовая книжка и/или сведения о трудовой деятельности (при наличии трудового стажа). Вариант 3: 1) паспорт гражданина Украины, Донецкой Народной Республики или Луганской Народной Республики; 2) документ, подтверждающий прохождение дактилоскопии и фотографирования. Данные должны совпадать с данными в паспорте; 3) регистрация по месту пребывания; 4) СНИЛС (при наличии); 5) трудовая книжка и/или сведения о трудовой деятельности (при наличии трудового стажа); 6) документ, подтверждающий время пребывания на территории РФ*. Вариант 4: 1) действующий паспорт гражданина Украины/ЛНР/ДНР; 2) действующий патент (указанная в нем территория действия соответствует региону трудоустройства)/РВП/ВНЖ; 3) миграционная карта; 4) регистрация по месту пребывания; 5) СНИЛС (при наличии); 6) трудовая книжка и/или сведения о трудовой деятельности (при наличии трудового стажа); 7) для ИГ с РВП или ВНЖ документ, подтверждающий время пребывания на территории РФ*. Вариант 5: При наличии у кандидата паспорта гражданина РФ трудоустройство осуществляется по стандартной процедуре приема на работу граждан РФ. Инструкция и шаблоны доступны по ссылке https://company-x5.ru/cms/zayavkaskillaz'},\n",
       "  {'id': '1',\n",
       "   'question': 'Что такое МЧД и зачем она нужна?',\n",
       "   'answer': 'Ранее, если для подписания документов требовалась квалифицированная электронная подпись, то применялась усиленная квалифицированная электронная подпись юридического лица – УКЭП ЮЛ. Особенность этой электронной подписи (ЭП) состояла в том, что владельцем сертификата была указана организация наряду с сотрудником. Если упростить, то такую ЭП можно представить как подпись и печать на любом бумажном документе. С 01.09.2023 в силу вступили правки в Федеральный закон РФ № 63‑ФЗ «Об электронной подписи». Суть этих правок в следующем: · выпуск УКЭП ЮЛ возможен только для Генеральных директоров компании и только в удостоверяющем центре Федеральной налоговой службы · если сотруднику для электронного подписания необходима квалифицированная ЭП, то он должен применять усиленную квалифицированную электронную подпись физического лица – УКЭП ФЛ и машиночитаемую доверенность – МЧД. Т.е. по аналогии с печатью и подписью на бумаге: УКЭП ФЛ – собственноручная подпись, МЧД – печать, которая подтверждает полномочия подписанта. · все УКЭП ЮЛ, выпущенные до 01.09.2023 действуют до конца своего срока (1 год).Детально о УКЭП ФЛ можно прочитать тут: https://company-x5.ru/cms/UC6 МЧД – машиночитаемая доверенность (довер\\u200bенность в машиночитаемом виде), выпускаемая в xml-формате, подписанная представителем ЮЛ: в нашем случае – Генеральным директором.'},\n",
       "  {'id': '10',\n",
       "   'question': 'Будет ли действовать электронная подпись, если персональные данные в учетной системе работодателя не актуальны?',\n",
       "   'answer': 'Выпуск усиленной квалифицированной подписи физического лица возможен только если Ваши данные актуальны как в системах компании, так и в системах регулятора. Если данные «разойдутся» прим.: у нас в системах указан один номер ИНН, а в налоговой данные другие, то выпуск будет невозможен, ведь сверка заявленных данных с базами регулятора – проверка в СМЭВ (единая система межведомственного электронного взаимодействия; детально можно прочитать тут: https://digital.gov.ru/ru/activity/govservices/infosystems/22/?utm_referrer=https%3a%2f%2fwww.google.com%2f ) – обязательное условие, при выпуске электронной подписи. Подробная информация доступна по ссылке https://company-x5.ru/cms/UC2'},\n",
       "  {'id': '100',\n",
       "   'question': 'какие бывают налоговые вычеты',\n",
       "   'answer': 'Налоговый вычет на детей, Имущественный вычет (в том числе по уплаченным процентам), Налоговый вычет на обучение ребенка, Налоговый вычет на собственное обучение, Налоговый вычет на обучение брата/сестры, Налоговый вычет на себя по платежам на страхование жизни, негосударственное пенсионное страхование, добровольное медицинское страхование, Налоговый вычет на себя, на лечение, в том числе дорогостоящее, лекарства, Налоговый вычет на себя, на иные суммы, уменьшающие налогооблагаемую базу, Налоговый вычет на себя при наличии инвалидности, для ветеранов войны, чернобыльцев, Героев РФ'},\n",
       "  {'id': '1000',\n",
       "   'question': 'В личном кабинете,в разделе Моя команда отсутствуют подтемы. которые были раньше. Например список сотрудников.',\n",
       "   'answer': 'Если в \"команде\" нет подчиненных сотрудников просьба обратиться в поддержку для корректировки'}]}"
      ]
     },
     "execution_count": 5,
     "metadata": {},
     "output_type": "execute_result"
    }
   ],
   "source": [
    "import requests\n",
    "\n",
    "url = f\"http://{ip}:8000/view_top_n\"\n",
    "\n",
    "params = {\n",
    "    \"n\": 5\n",
    "}\n",
    "\n",
    "response = requests.get(url, params=params)\n",
    "response.json()"
   ]
  },
  {
   "cell_type": "code",
   "execution_count": 260,
   "metadata": {},
   "outputs": [
    {
     "name": "stdout",
     "output_type": "stream",
     "text": [
      "{'collection_name': 'default', 'item_count': 1659}\n"
     ]
    }
   ],
   "source": [
    "import requests\n",
    "\n",
    "url = f\"http://{ip}:8000/count_items\"\n",
    "\n",
    "response = requests.get(url)\n",
    "print(response.json())"
   ]
  },
  {
   "cell_type": "code",
   "execution_count": 6,
   "metadata": {},
   "outputs": [
    {
     "data": {
      "text/plain": [
       "{'results': [{'query': 'как провести отпуск',\n",
       "   'results': [{'id': '113',\n",
       "     'question': 'Как провести отпуск?',\n",
       "     'answer': 'Оформление отпуска по заявлению возможно двумя способами: 1. в разделе \"Отпуска\" в левом меню Личного кабинета сотрудника (https://company-x5.ru/vacations/plan?vp_page=1 ); 2. в разделе \"Заявки\", группа \"Отпуск\", плитка \"Отпуск по заявлению (ЛК)\". (https://company-x5.ru/requests/tiles/my/)',\n",
       "     'distance': 0.17390930652618408},\n",
       "    {'id': '448',\n",
       "     'question': 'как оформить отпуск',\n",
       "     'answer': 'Создать заявку на отпуск можно в разделе \"Сервис\", подразделе \"Отпуск\". Требования к запрашиваемому отпуску вы сможете видеть левой части экрана',\n",
       "     'distance': 0.2272828221321106},\n",
       "    {'id': '447',\n",
       "     'question': 'как создать заявку на отпуск?',\n",
       "     'answer': 'Создать заявку на отпуск можно в разделе \"Сервис\", подразделе \"Отпуск\". Требования к запрашиваемому отпуску вы сможете видеть левой части экрана',\n",
       "     'distance': 0.2599191665649414}]}]}"
      ]
     },
     "execution_count": 6,
     "metadata": {},
     "output_type": "execute_result"
    }
   ],
   "source": [
    "import requests\n",
    "\n",
    "url = f\"http://{ip}:8000/api/v1/get_answer/\"\n",
    "\n",
    "data = {\n",
    "    \"queries\": [\"как провести отпуск\"],\n",
    "    \"n_results\": 3\n",
    "}\n",
    "\n",
    "response = requests.post(url, json=data)\n",
    "response.json()"
   ]
  },
  {
   "cell_type": "code",
   "execution_count": 2,
   "metadata": {},
   "outputs": [
    {
     "data": {
      "text/plain": [
       "{'model': 'gemma2:2b-instruct-q8_0',\n",
       " 'created_at': '2024-09-13T07:04:39.62538625Z',\n",
       " 'message': {'role': 'assistant', 'content': 'Привет! 😊  Чем могу помочь? \\n'},\n",
       " 'done_reason': 'stop',\n",
       " 'done': True,\n",
       " 'total_duration': 356570995,\n",
       " 'load_duration': 44079352,\n",
       " 'prompt_eval_count': 10,\n",
       " 'prompt_eval_duration': 33177000,\n",
       " 'eval_count': 11,\n",
       " 'eval_duration': 277771000}"
      ]
     },
     "execution_count": 2,
     "metadata": {},
     "output_type": "execute_result"
    }
   ],
   "source": [
    "import requests\n",
    "import json\n",
    "\n",
    "url = \"http://62.68.146.67:11434/api/chat/\"\n",
    "\n",
    "# Пример использования\n",
    "prompt = \"Привет\"\n",
    "\n",
    "payload = {\n",
    "    \"model\": \"gemma2:2b-instruct-q8_0\",\n",
    "    \"messages\": [\n",
    "        {\n",
    "            \"role\": \"user\",\n",
    "            \"content\": prompt\n",
    "        }\n",
    "    ],\n",
    "    \"stream\": False\n",
    "}\n",
    "\n",
    "headers = {\n",
    "    \"Content-Type\": \"application/json\"\n",
    "}\n",
    "\n",
    "response = requests.post(url, headers=headers, data=json.dumps(payload))\n",
    "response.json()"
   ]
  },
  {
   "cell_type": "code",
   "execution_count": 3,
   "metadata": {},
   "outputs": [],
   "source": [
    "import requests\n",
    "import json\n",
    "from typing import List, Dict, Any\n",
    "from collections import defaultdict\n",
    "\n",
    "def rag_query(ip: str, queries: List[str], n_results: int) -> Dict[str, Any]:\n",
    "    \"\"\"\n",
    "    Perform a RAG query to retrieve relevant information.\n",
    "    \"\"\"\n",
    "    url = f\"http://{ip}:8000/api/v1/get_answer/\"\n",
    "    data = {\n",
    "        \"queries\": queries,\n",
    "        \"n_results\": n_results\n",
    "    }\n",
    "    response = requests.post(url, json=data)\n",
    "    result = response.json()\n",
    "    #print(\"RAG Response:\", json.dumps(result, indent=2, ensure_ascii=False))\n",
    "    return result\n",
    "\n",
    "def llm_query(prompt: str, model: str = \"gemma2:9b\") -> Dict[str, Any]:\n",
    "    \"\"\"\n",
    "    Perform an LLM query using the given prompt.\n",
    "    \"\"\"\n",
    "    url = f\"http://{ip}:11434/api/chat/\"\n",
    "    payload = {\n",
    "        \"model\": model,\n",
    "        \"messages\": [\n",
    "            {\n",
    "                \"role\": \"user\",\n",
    "                \"content\": prompt\n",
    "            }\n",
    "        ],\n",
    "        \"stream\": False,\n",
    "        \"options\": {\n",
    "            \"temperature\": 0\n",
    "        },\n",
    "    }\n",
    "    headers = {\n",
    "        \"Content-Type\": \"application/json\"\n",
    "    }\n",
    "    response = requests.post(url, headers=headers, data=json.dumps(payload))\n",
    "    return response.json()\n",
    "\n",
    "\n",
    "def create_llm_prompt(user_question: str, rag_response: Dict[str, Any]) -> str:\n",
    "    \"\"\"\n",
    "    Create a prompt for the LLM based on the user question and RAG results,\n",
    "    with question grouping for identical answers.\n",
    "    \"\"\"\n",
    "    prompt = f'Вопрос от пользователя: \"{user_question}\"\\n\\nРелевантные вопросы и ответы из базы знаний:\\n'\n",
    "    \n",
    "    # Extract results from the RAG response\n",
    "    rag_results = rag_response['results'][0]['results']\n",
    "    \n",
    "    # Group questions by their answers\n",
    "    answer_to_questions = defaultdict(list)\n",
    "    for result in rag_results:\n",
    "        answer_to_questions[result['answer']].append(result['question'])\n",
    "    \n",
    "    # Create condensed Q&A pairs\n",
    "    for i, (answer, questions) in enumerate(answer_to_questions.items(), 1):\n",
    "        if len(questions) > 1:\n",
    "            formatted_questions = ', '.join(f'\"{q}\"' for q in questions)\n",
    "            prompt += f\"#{i}. Для вопросов: {formatted_questions}\\n   Ответ: {answer}\\n\\n\"\n",
    "        else:\n",
    "            prompt += f\"#{i}. \\\"{questions[0]}\\\"\\n   Ответ: {answer}\\n\\n\"\n",
    "    \n",
    "    prompt += '''\n",
    "Задача: Основываясь на вспомогательных материалах корпоративной базы знаний компании x5 retail group, развёрнуто и чётко ответить на вопрос пользователя. \n",
    "Важно, что вспомогательные данные не всегда ранжированы по релевантности. \n",
    "Среди примеров может не быть верного ответа! \n",
    "Если ты считаешь, вопрос пользователя релевантен вопросу из базы знаний, дай соответствующий ответ. \n",
    "Тебе необходимо ответить на вопрос. Объяснять, почему ты выбрал именно это вариант из базы не нужно. \n",
    "Если ты считаешь, что в предоставленных данных не содержится ответа на вопрос, то нужно ответить, что тебе дали слишком мало конкретики. Попроси описать проблему подробнее. \n",
    "Если в вспомогательных данных есть несколько вопросов, которые релевантны данному, задай уточняющий вопрос, чтобы понять, какой из вопросов больше подходит.\n",
    "При ответе на вопрос ничего лишнего не пиши. Только сам ответ или уточняющее предложение.\n",
    "Ответ должен быть полным, как в базе знаний. Из базы знаний нужно выбрать лишь один ответ!\n",
    "Отвечай только на русском языке.'''\n",
    "    \n",
    "    return prompt\n",
    "\n",
    "def rag_llm_pipeline(ip: str, user_question: str, n_results: int = 5) -> Dict[str, Any]:\n",
    "    \"\"\"\n",
    "    Perform the full RAG-LLM pipeline for a given user question.\n",
    "    \"\"\"\n",
    "    # 1. Perform RAG query\n",
    "    rag_response = rag_query(ip, [user_question], n_results)\n",
    "    \n",
    "    # 2. Create LLM prompt\n",
    "    llm_prompt = create_llm_prompt(user_question, rag_response)\n",
    "    \n",
    "    # 3. Perform LLM query\n",
    "    llm_response = llm_query(llm_prompt)\n",
    "    \n",
    "    return {\n",
    "        \"user_question\": user_question,\n",
    "        \"rag_results\": rag_response,\n",
    "        \"llm_prompt\": llm_prompt,\n",
    "        \"llm_response\": llm_response\n",
    "    }"
   ]
  },
  {
   "cell_type": "code",
   "execution_count": null,
   "metadata": {},
   "outputs": [],
   "source": [
    "from langchain_community.llms import Ollama\n",
    "llm = Ollama(model=\"gemma2\")\n",
    "llm.invoke(\"Why is the sky blue?\")"
   ]
  },
  {
   "cell_type": "code",
   "execution_count": 345,
   "metadata": {},
   "outputs": [],
   "source": [
    "answer = rag_llm_pipeline(ip, \"процент занятости нужно изменить\")"
   ]
  },
  {
   "cell_type": "code",
   "execution_count": 346,
   "metadata": {},
   "outputs": [
    {
     "data": {
      "text/plain": [
       "{'model': 'gemma2:9b',\n",
       " 'created_at': '2024-09-12T17:55:57.067455211Z',\n",
       " 'message': {'role': 'assistant',\n",
       "  'content': 'Для изменения процента занятости сотруднику создайте, пожалуйста, заявку на сотрудника по теме \"Изменение режима, характера работы\" \\n'},\n",
       " 'done_reason': 'stop',\n",
       " 'done': True,\n",
       " 'total_duration': 1733768778,\n",
       " 'load_duration': 62059932,\n",
       " 'prompt_eval_count': 398,\n",
       " 'prompt_eval_duration': 634273000,\n",
       " 'eval_count': 31,\n",
       " 'eval_duration': 1034048000}"
      ]
     },
     "execution_count": 346,
     "metadata": {},
     "output_type": "execute_result"
    }
   ],
   "source": [
    "answer['llm_response']"
   ]
  },
  {
   "cell_type": "code",
   "execution_count": 4,
   "metadata": {},
   "outputs": [],
   "source": [
    "from langchain_community.llms import Ollama\n",
    "\n",
    "# Указываем IP-адрес и порт сервера Ollama\n",
    "ollama_model = Ollama(model=\"gemma2:9b\", base_url='http://62.68.146.67:11434')"
   ]
  },
  {
   "cell_type": "code",
   "execution_count": 5,
   "metadata": {},
   "outputs": [
    {
     "data": {
      "text/plain": [
       "\"The sky appears blue due to a phenomenon called **Rayleigh scattering**.\\n\\nHere's how it works:\\n\\n* **Sunlight:** Sunlight is actually composed of all colors of the rainbow.\\n* **Atmosphere:** Earth's atmosphere is made up of tiny particles, mainly nitrogen and oxygen molecules.\\n* **Scattering:** When sunlight enters the atmosphere, it collides with these particles.  Blue light, having a shorter wavelength, is scattered more effectively than other colors by these particles.\\n\\n* **Our Perception:** This scattered blue light reaches our eyes from all directions, making the sky appear blue.\\n\\n**Why not violet?** \\nViolet light has an even shorter wavelength than blue and scatters even more. However, our eyes are less sensitive to violet light, so we perceive the sky as blue.\\n\\n**Sunsets and sunrises:**\\n\\nDuring sunrise and sunset, the sunlight travels through a thicker layer of atmosphere. This causes more scattering of all colors, but especially the longer wavelengths like orange and red, resulting in those beautiful warm hues.\\n\\n\\nLet me know if you have any other questions!\""
      ]
     },
     "execution_count": 5,
     "metadata": {},
     "output_type": "execute_result"
    }
   ],
   "source": [
    "ollama_model.invoke(\"Why is the sky blue?\")"
   ]
  },
  {
   "cell_type": "code",
   "execution_count": 32,
   "metadata": {},
   "outputs": [],
   "source": [
    "from typing import List, Dict, Any\n",
    "import requests\n",
    "import json\n",
    "\n",
    "def process_history(history: List[Dict[str, str]], ip: str, N: int = 2, M: int = 3) -> List[Dict[str, str]]:\n",
    "    # Получаем последние N сообщений пользователя\n",
    "    user_messages = [msg[\"content\"] for msg in history if msg[\"role\"] == \"user\"][-N:]\n",
    "    \n",
    "    # Получаем конкатенацию последних M сообщений (всех ролей)\n",
    "    all_messages = \" \".join([msg[\"content\"] for msg in history[-M:]])\n",
    "    \n",
    "    # Формируем список запросов для RAG\n",
    "    queries = user_messages + [all_messages]\n",
    "    \n",
    "    # Выполняем запрос к RAG\n",
    "    rag_results = rag_query(ip, queries, n_results=5)\n",
    "    \n",
    "    # Обрабатываем результаты RAG\n",
    "    processed_results = []\n",
    "    seen_pairs = set()  # Для отслеживания уникальных пар вопрос-ответ\n",
    "\n",
    "    for query_result in rag_results['results']:\n",
    "        for result in query_result['results']:\n",
    "            qa_pair = (result['question'], result['answer'])\n",
    "            if qa_pair not in seen_pairs:\n",
    "                processed_results.append({\n",
    "                    'question': result['question'],\n",
    "                    'answer': result['answer']\n",
    "                })\n",
    "                seen_pairs.add(qa_pair)\n",
    "    \n",
    "    return processed_results\n",
    "\n",
    "def create_condensed_qa_prompt(user_question: str, qa_pairs: List[Dict[str, str]]) -> str:\n",
    "    \"\"\"\n",
    "    Create a condensed prompt from a list of question-answer dictionaries,\n",
    "    grouping questions with identical answers, and including the latest user question.\n",
    "    \"\"\"\n",
    "    prompt = f'Вопрос от пользователя: \"{user_question}\"\\n\\nРелевантные вопросы и ответы из базы знаний:\\n'\n",
    "    \n",
    "    # Group questions by their answers\n",
    "    answer_to_questions = defaultdict(list)\n",
    "    for pair in qa_pairs:\n",
    "        answer_to_questions[pair['answer']].append(pair['question'])\n",
    "    \n",
    "    # Create condensed Q&A pairs\n",
    "    for i, (answer, questions) in enumerate(answer_to_questions.items(), 1):\n",
    "        if len(questions) > 1:\n",
    "            formatted_questions = ', '.join(f'\"{q}\"' for q in questions)\n",
    "            prompt += f\"#{i}. Для вопросов: {formatted_questions}\\n   Ответ: {answer}\\n\\n\"\n",
    "        else:\n",
    "            prompt += f\"#{i}. \\\"{questions[0]}\\\"\\n   Ответ: {answer}\\n\\n\"\n",
    "    \n",
    "    prompt += '''\n",
    "Задача: Основываясь на вспомогательных материалах корпоративной базы знаний компании x5 retail group, развёрнуто и чётко ответить на вопрос пользователя. \n",
    "Важно, что вспомогательные данные не всегда ранжированы по релевантности. \n",
    "Среди примеров может не быть верного ответа! \n",
    "Если ты считаешь, вопрос пользователя релевантен вопросу из базы знаний, дай соответствующий ответ. \n",
    "Тебе необходимо ответить на вопрос. Объяснять, почему ты выбрал именно это вариант из базы не нужно. \n",
    "Если ты считаешь, что в предоставленных данных не содержится ответа на вопрос, то нужно ответить, что тебе дали слишком мало конкретики. Попроси описать проблему подробнее. \n",
    "Если в вспомогательных данных есть несколько вопросов, которые релевантны данному, задай уточняющий вопрос, чтобы понять, какой из вопросов больше подходит.\n",
    "При ответе на вопрос ничего лишнего не пиши. Только сам ответ или уточняющее предложение.\n",
    "Ответ должен быть полным, как в базе знаний. Из базы знаний нужно выбрать лишь один ответ!\n",
    "Отвечай только на русском языке.'''\n",
    "    \n",
    "    return prompt\n",
    "\n",
    "\n",
    "def remove_role_messages(history, role=\"assistant\", n=2):\n",
    "    \"\"\"\n",
    "    Удаляет все сообщения указанной роли, кроме последних N.\n",
    "    \n",
    "    :param history: список сообщений, содержащих \"role\" и \"content\"\n",
    "    :param role: роль, сообщения которой нужно удалить (например, \"assistant\")\n",
    "    :param n: количество последних сообщений этой роли, которые нужно оставить\n",
    "    :return: список сообщений с удалёнными сообщениями указанной роли\n",
    "    \"\"\"\n",
    "    # Собираем все индексы сообщений указанной роли\n",
    "    role_indices = [i for i, message in enumerate(\n",
    "        history) if message['role'] == role]\n",
    "\n",
    "    # Оставляем последние N индексов для сохранения\n",
    "    indices_to_keep = role_indices[-n:]\n",
    "\n",
    "    # Формируем новый список, удаляя все сообщения роли, кроме последних N\n",
    "    new_history = [message for i, message in enumerate(\n",
    "        history) if message['role'] != role or i in indices_to_keep]\n",
    "\n",
    "    return new_history\n",
    "\n",
    "#@app.post(\"/api/v1/get_answer/\")\n",
    "def query(chat_history):\n",
    "    # Нахождение релевантной информации\n",
    "    result = process_history(chat_history, ip)\n",
    "    # Создание сообщения пользователя\n",
    "    res = create_condensed_qa_prompt(chat_history[-1]['content'], result)\n",
    "    # Формирование истории\n",
    "    result_history = remove_role_messages(chat_history, 'assistant', 2)\n",
    "    result_history = result_history[:-1]\n",
    "    result_history.append({'role': 'user', 'content': res})\n",
    "    return result_history"
   ]
  },
  {
   "cell_type": "code",
   "execution_count": 33,
   "metadata": {},
   "outputs": [
    {
     "data": {
      "text/plain": [
       "[{'role': 'user', 'content': 'Как мне взять отпуск?'},\n",
       " {'role': 'user', 'content': 'Ежегодный оплачиваемый отпуск'},\n",
       " {'role': 'user', 'content': '14 дней'},\n",
       " {'role': 'user', 'content': 'Да, с 1 по 14 августа.'},\n",
       " {'role': 'assistant',\n",
       "  'content': 'Отлично. Убедитесь, что ваш начальник одобрил даты. Вам нужна помощь с заполнением заявления на отпуск?'},\n",
       " {'role': 'user', 'content': 'Да, подскажите, как его правильно заполнить.'},\n",
       " {'role': 'assistant',\n",
       "  'content': 'В заявлении укажите ваши ФИО, должность, тип отпуска (в вашем случае - ежегодный оплачиваемый), а также даты начала и окончания отпуска. Не забудьте подписать и указать текущую дату. Затем подайте заявление в отдел кадров.'},\n",
       " {'role': 'user',\n",
       "  'content': 'Вопрос от пользователя: \"Спасибо, понял. А что делать, если не хватит дней отпуска?\"\\n\\nРелевантные вопросы и ответы из базы знаний:\\n#1. Для вопросов: \"задача в лк\", \"сделать заявку\", \"Прошу закрыть заявку. Уже не актуальна\", \"сделать заявку на о не корректноц информации в ЛК\", \"КУРСЫ\"\\n   Ответ: Создайте, пожалуйста, обращение в ИТ поддержку на портале support\\n\\n#2. Для вопросов: \"не могу понять, сколько отпускных дней накопила\", \"сколько дней отпуска у меня есть\"\\n   Ответ: Ознакомиться с графиком отпусков и воспользоваться доступным для планирования лимитом Вы можете разделе «Отпуска». Обращаем внимание, что в Личном кабинете отображаются доступные лимиты за вычетом уже запланированных дней.\\n\\n#3. Для вопросов: \"Почему в ЛК меньше дней, чем накоплено?\", \"не сходятся дни отпуска в лк, у меня больше\", \"в лк мало дней отпуска\"\\n   Ответ: В Личном кабинете в разделе «Отпуска» отображаются лимиты, доступные для планирования, за вычетом уже запланированных дней. Расчет производится следующим образом: берем количество дней, заработанных Вами на определенную дату, и вычитаем из них количество дней, запланированное на будущий период.\\n\\n#4. \"хочу оформить отпуск что надо сделать?\"\\n   Ответ: Для оформления отпуска необходимо создать соответствующую заявку. Для этого следует зайти в раздел \"Сервис\", выбрать подраздел \"Отпуска и прочие отсутствия\", далее выбрать тему \"Отпуск\" и создать заявку по инструкции, указанной в этом разделе. Не забудьте также приложить к заявке согласованное руководством заявление по установленному шаблону, который доступен в разделе \"База знаний\".\\n\\n#5. \"Когда отпуск по БИР закончился, нужно ли писать заявление?\"\\n   Ответ: Если сотрудник хочет уйти в отпуск по уходу за ребенком, ему следует написать заявление о предоставлении отпуска по уходу за ребенком и передать его непосредственному руководителю, он оформит соответствующее мероприятие.\\n\\n#6. \"как оформить отпуск\"\\n   Ответ: Создать заявку на отпуск можно в разделе \"Сервис\", подразделе \"Отпуск\". Требования к запрашиваемому отпуску вы сможете видеть левой части экрана\\n\\n#7. \"Сотрудник запланировал отпуска, но директору магазина в \" Задачи\" не пришло уведомление\"\\n   Ответ: У сотрудника нет плановых отпусков на будущий год. По вопросу проведения отпусков по коллегам Вам следует обратиться к специалистам HR вашей торговой сети. Для этого зайдите на портал https://company-x5.ru, нажмите \"Новое обращение\", выберите \"Кадры (HR)\", после чего выберите интересующую тему и заполните соответствующие поля.\\n\\n#8. \"СФР направило извещение работодателю по оплате больничного листа, что делать?\"\\n   Ответ: Пожалуйста, ожидайте, в течение 5 рабочих дней работодатель предоставит ответ на извещение, после чего пособие будет выплачено.\\n\\n\\nЗадача: Основываясь на вспомогательных материалах корпоративной базы знаний компании x5 retail group, развёрнуто и чётко ответить на вопрос пользователя. \\nВажно, что вспомогательные данные не всегда ранжированы по релевантности. \\nСреди примеров может не быть верного ответа! \\nЕсли ты считаешь, вопрос пользователя релевантен вопросу из базы знаний, дай соответствующий ответ. \\nТебе необходимо ответить на вопрос. Объяснять, почему ты выбрал именно это вариант из базы не нужно. \\nЕсли ты считаешь, что в предоставленных данных не содержится ответа на вопрос, то нужно ответить, что тебе дали слишком мало конкретики. Попроси описать проблему подробнее. \\nЕсли в вспомогательных данных есть несколько вопросов, которые релевантны данному, задай уточняющий вопрос, чтобы понять, какой из вопросов больше подходит.\\nПри ответе на вопрос ничего лишнего не пиши. Только сам ответ или уточняющее предложение.\\nОтвет должен быть полным, как в базе знаний. Из базы знаний нужно выбрать лишь один ответ!\\nОтвечай только на русском языке.'}]"
      ]
     },
     "execution_count": 33,
     "metadata": {},
     "output_type": "execute_result"
    }
   ],
   "source": [
    "\n",
    "# Пример использования\n",
    "history = [\n",
    "    {'role': 'user', 'content': 'Как мне взять отпуск?'},\n",
    "    {'role': 'assistant', 'content': 'Какой тип отпуска вас интересует?'},\n",
    "    {'role': 'user', 'content': 'Ежегодный оплачиваемый отпуск'},\n",
    "    {'role': 'assistant', 'content': 'Сколько дней отпуска вы хотите взять?'},\n",
    "    {'role': 'user', 'content': '14 дней'},\n",
    "    {'role': 'assistant', 'content': 'Для оформления ежегодного оплачиваемого отпуска на 14 дней, вам нужно подать заявление за две недели до предполагаемой даты начала. Вы уже выбрали даты?'},\n",
    "    {'role': 'user', 'content': 'Да, с 1 по 14 августа.'},\n",
    "    {'role': 'assistant', 'content': 'Отлично. Убедитесь, что ваш начальник одобрил даты. Вам нужна помощь с заполнением заявления на отпуск?'},\n",
    "    {'role': 'user', 'content': 'Да, подскажите, как его правильно заполнить.'},\n",
    "    {'role': 'assistant', 'content': 'В заявлении укажите ваши ФИО, должность, тип отпуска (в вашем случае - ежегодный оплачиваемый), а также даты начала и окончания отпуска. Не забудьте подписать и указать текущую дату. Затем подайте заявление в отдел кадров.'},\n",
    "    {'role': 'user', 'content': 'Спасибо, понял. А что делать, если не хватит дней отпуска?'},\n",
    "]\n",
    "\n",
    "query(history)"
   ]
  },
  {
   "cell_type": "code",
   "execution_count": 46,
   "metadata": {},
   "outputs": [
    {
     "data": {
      "text/plain": [
       "{'model': 'gemma2:9b',\n",
       " 'created_at': '2024-09-12T21:11:15.442003096Z',\n",
       " 'message': {'role': 'assistant',\n",
       "  'content': 'Согласно информации из базы знаний, перенос отпуска возможен не позднее чем за 6 рабочих дней до его начала. Для этого вам нужно перейти в раздел «Отпуска» https://company-x5.ru/vacations/plan?vp_page=1 , а затем нажать кнопку «Выберите действие», далее «Перенос планового отпуска».\\n\\n\\n'},\n",
       " 'done_reason': 'stop',\n",
       " 'done': True,\n",
       " 'total_duration': 4401551520,\n",
       " 'load_duration': 237287701,\n",
       " 'prompt_eval_count': 1147,\n",
       " 'prompt_eval_duration': 1370415000,\n",
       " 'eval_count': 78,\n",
       " 'eval_duration': 2683977000}"
      ]
     },
     "execution_count": 46,
     "metadata": {},
     "output_type": "execute_result"
    }
   ],
   "source": [
    "import requests\n",
    "\n",
    "chat_hist = {\n",
    "  \"history\": [\n",
    "    {\n",
    "      \"role\": \"user\",\n",
    "      \"content\": \"Добрый день! Хотел бы уточнить, как можно оформить отпуск в следующем месяце?\"\n",
    "    },\n",
    "    {\n",
    "      \"role\": \"assistant\",\n",
    "      \"content\": \"Здравствуйте! Для оформления отпуска вам нужно заполнить заявление на отпуск и согласовать даты с руководителем. После этого заявление отправляется в отдел кадров для оформления приказа.\"\n",
    "    },\n",
    "    {\n",
    "      \"role\": \"user\",\n",
    "      \"content\": \"Спасибо! Есть ли ограничения по продолжительности отпуска?\"\n",
    "    },\n",
    "    {\n",
    "      \"role\": \"assistant\",\n",
    "      \"content\": \"Обычно отпуск предоставляется на срок до 28 календарных дней в год. Однако, вы можете разбить его на несколько частей, при этом одна из частей не может быть меньше 14 дней.\"\n",
    "    },\n",
    "    {\n",
    "      \"role\": \"user\",\n",
    "      \"content\": \"Понял. А можно ли перенести часть отпуска на следующий год?\"\n",
    "    }\n",
    "  ]\n",
    "}\n",
    "\n",
    "response = requests.post(\"http://localhost:8000/api/v1/get_answer/\", json=chat_hist)\n",
    "response.json()"
   ]
  },
  {
   "cell_type": "code",
   "execution_count": null,
   "metadata": {},
   "outputs": [],
   "source": []
  }
 ],
 "metadata": {
  "kernelspec": {
   "display_name": "Python 3",
   "language": "python",
   "name": "python3"
  },
  "language_info": {
   "codemirror_mode": {
    "name": "ipython",
    "version": 3
   },
   "file_extension": ".py",
   "mimetype": "text/x-python",
   "name": "python",
   "nbconvert_exporter": "python",
   "pygments_lexer": "ipython3",
   "version": "3.11.2"
  }
 },
 "nbformat": 4,
 "nbformat_minor": 2
}
