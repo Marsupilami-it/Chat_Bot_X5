{
 "cells": [
  {
   "cell_type": "code",
   "execution_count": 1,
   "metadata": {},
   "outputs": [],
   "source": [
    "import requests\n",
    "import json\n",
    "\n",
    "BASE_URL = \"http://51.250.106.51:8000\"\n",
    "\n",
    "def call_api(endpoint, data=None):\n",
    "    url = f\"{BASE_URL}{endpoint}\"\n",
    "    try:\n",
    "        if data:\n",
    "            response = requests.post(url, json=data)\n",
    "        else:\n",
    "            response = requests.post(url)\n",
    "        response.raise_for_status()\n",
    "        return response.json()\n",
    "    except requests.exceptions.RequestException as e:\n",
    "        print(f\"Ошибка при вызове API {endpoint}: {str(e)}\")\n",
    "        if response:\n",
    "            print(f\"Ответ сервера: {response.text}\")\n",
    "        return None"
   ]
  },
  {
   "cell_type": "code",
   "execution_count": null,
   "metadata": {},
   "outputs": [],
   "source": [
    "# 1. Полный сброс базы данных\n",
    "print(\"1. Полный сброс базы данных...\")\n",
    "result = call_api(\"/reset_database\")\n",
    "if result:\n",
    "    print(result)\n",
    "\n",
    "# 2. Добавление данных из Google Sheets\n",
    "print(\"\\n2. Добавление данных из Google Sheets...\")\n",
    "sheet_data = {\n",
    "    \"sheet_id\": \"1qEormopG5VJDg9BfG4-d5kRBTdMPksRcN2sXar9Xepo\",\n",
    "    \"gid\": \"0\"\n",
    "}\n",
    "result = call_api(\"/add_from_sheet\", sheet_data)\n",
    "if result:\n",
    "    print(f\"Добавлено документов: {result['new_docs_count']}\")\n",
    "    print(f\"Пропущено дубликатов: {result['duplicates_skipped']}\")\n",
    "    print(f\"Всего строк в таблице: {result['total_rows_in_sheet']}\")\n",
    "\n",
    "# 3. Попытка добавить те же данные снова\n",
    "print(\"\\n3. Попытка добавить те же данные снова...\")\n",
    "result = call_api(\"/add_from_sheet\", sheet_data)\n",
    "if result:\n",
    "    print(f\"Добавлено документов: {result['new_docs_count']}\")\n",
    "    print(f\"Пропущено дубликатов: {result['duplicates_skipped']}\")\n",
    "    print(f\"Всего строк в таблице: {result['total_rows_in_sheet']}\")"
   ]
  },
  {
   "cell_type": "code",
   "execution_count": 17,
   "metadata": {},
   "outputs": [
    {
     "name": "stdout",
     "output_type": "stream",
     "text": [
      "{'answer': {'ids': [['77', '163', '39']], 'distances': [[0.2136707901954651, 0.2794804573059082, 0.2959359288215637]], 'metadatas': [[{'category': 'материальная помощь'}, {'category': 'материальная помощь'}, {'category': 'материальная помощь'}]], 'embeddings': None, 'documents': [['Материальная помощь по смерти близкого родственника работника компании, тяжелая болезнь работника компании, причинение ущерба имуществу работнику компании, смерть работника компании.', 'Заявление на оказание материальной помощи; Справка или свидетельство о смерти; Документы, подтверждающие родство.', 'Для оформления материальной помощи, пожалуйста, создайте заявку \" в разделе \"Льготы, выплаты, материальная помощь\", выбрав тему \"Материальная помощь\". Инструкция размещена в \"Базе знаний \" Личного кабинета: https://company-x5.ru/cms/1241']], 'uris': None, 'data': None, 'included': ['metadatas', 'documents', 'distances']}}\n"
     ]
    }
   ],
   "source": [
    "import requests\n",
    "\n",
    "url = \"http://51.250.106.51:8000/api/v1/get_answer/\"\n",
    "data = {\n",
    "    \"queries\": [\"как оформить материальную помощь родственникам мёртвого работника\"],\n",
    "    \"n_results\": 3\n",
    "}\n",
    "\n",
    "response = requests.post(url, json=data)\n",
    "print(response.json())\n"
   ]
  },
  {
   "cell_type": "code",
   "execution_count": 20,
   "metadata": {},
   "outputs": [
    {
     "name": "stdout",
     "output_type": "stream",
     "text": [
      "Question: Привет!\n",
      "Answer: Привет! 😄  Чем могу помочь? \n",
      "\n"
     ]
    }
   ],
   "source": [
    "import requests\n",
    "import json\n",
    "\n",
    "def chat_with_gemma(prompt):\n",
    "    url = \"http://51.250.106.51:11434/api/chat\"\n",
    "    \n",
    "    payload = {\n",
    "        \"model\": \"gemma2:2b-instruct-q8_0\",\n",
    "        \"messages\": [\n",
    "            {\n",
    "                \"role\": \"user\",\n",
    "                \"content\": prompt\n",
    "            }\n",
    "        ],\n",
    "        \"stream\": False\n",
    "    }\n",
    "    \n",
    "    headers = {\n",
    "        \"Content-Type\": \"application/json\"\n",
    "    }\n",
    "    \n",
    "    response = requests.post(url, headers=headers, data=json.dumps(payload))\n",
    "    \n",
    "    if response.status_code == 200:\n",
    "        return response.json()[\"message\"][\"content\"]\n",
    "    else:\n",
    "        return f\"Error: {response.status_code}, {response.text}\"\n",
    "\n",
    "# Пример использования\n",
    "prompt = \"Привет!\"\n",
    "response = chat_with_gemma(prompt)\n",
    "print(f\"Question: {prompt}\")\n",
    "print(f\"Answer: {response}\")"
   ]
  }
 ],
 "metadata": {
  "kernelspec": {
   "display_name": "Python 3",
   "language": "python",
   "name": "python3"
  },
  "language_info": {
   "codemirror_mode": {
    "name": "ipython",
    "version": 3
   },
   "file_extension": ".py",
   "mimetype": "text/x-python",
   "name": "python",
   "nbconvert_exporter": "python",
   "pygments_lexer": "ipython3",
   "version": "3.11.2"
  }
 },
 "nbformat": 4,
 "nbformat_minor": 2
}
